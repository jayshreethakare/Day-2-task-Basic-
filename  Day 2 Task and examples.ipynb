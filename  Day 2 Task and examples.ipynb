{
 "cells": [
  {
   "cell_type": "markdown",
   "metadata": {},
   "source": [
    "# write a program to ask a user to enter the name and details"
   ]
  },
  {
   "cell_type": "code",
   "execution_count": 1,
   "metadata": {},
   "outputs": [],
   "source": [
    "name=\"jayshree\""
   ]
  },
  {
   "cell_type": "code",
   "execution_count": 2,
   "metadata": {},
   "outputs": [],
   "source": [
    "address=\"thane\""
   ]
  },
  {
   "cell_type": "code",
   "execution_count": 3,
   "metadata": {},
   "outputs": [],
   "source": [
    "pincode=400603"
   ]
  },
  {
   "cell_type": "code",
   "execution_count": 6,
   "metadata": {},
   "outputs": [],
   "source": [
    "phneno=9702892184"
   ]
  },
  {
   "cell_type": "code",
   "execution_count": 8,
   "metadata": {},
   "outputs": [
    {
     "name": "stdout",
     "output_type": "stream",
     "text": [
      "jayshree thane 400603 9702892184\n"
     ]
    }
   ],
   "source": [
    "print(name,address,pincode,phneno)"
   ]
  },
  {
   "cell_type": "markdown",
   "metadata": {},
   "source": [
    "# Write a program to display profited amount"
   ]
  },
  {
   "cell_type": "code",
   "execution_count": 28,
   "metadata": {},
   "outputs": [
    {
     "name": "stdout",
     "output_type": "stream",
     "text": [
      "please enter the profited amount789\n"
     ]
    }
   ],
   "source": [
    "projectedamount=float(input(\"please enter the profited amount\"))"
   ]
  },
  {
   "cell_type": "code",
   "execution_count": 29,
   "metadata": {},
   "outputs": [],
   "source": [
    "profit=0.23*projectedamount"
   ]
  },
  {
   "cell_type": "code",
   "execution_count": 65,
   "metadata": {},
   "outputs": [
    {
     "name": "stdout",
     "output_type": "stream",
     "text": [
      "value of profited amount is 181.47\n"
     ]
    }
   ],
   "source": [
    "print(\"value of profited amount is {}\".format(profit,\":2f\"))"
   ]
  },
  {
   "cell_type": "markdown",
   "metadata": {},
   "source": [
    "# format?\n"
   ]
  },
  {
   "cell_type": "code",
   "execution_count": 25,
   "metadata": {},
   "outputs": [
    {
     "name": "stdout",
     "output_type": "stream",
     "text": [
      "this site is 100.000000% securely encrypted!!\n"
     ]
    }
   ],
   "source": [
    "print(\"this site is {0:f}% securely {1}!!\". format(100,\"encrypted\"))"
   ]
  },
  {
   "cell_type": "code",
   "execution_count": 46,
   "metadata": {},
   "outputs": [
    {
     "name": "stdout",
     "output_type": "stream",
     "text": [
      "My average of this semester was 78.23%\n"
     ]
    }
   ],
   "source": [
    "# To limit the precision \n",
    "print (\"My average of this {0} was {1:.2f}%\"\n",
    "            .format(\"semester\", 78.234876)) "
   ]
  },
  {
   "cell_type": "code",
   "execution_count": 54,
   "metadata": {},
   "outputs": [
    {
     "name": "stdout",
     "output_type": "stream",
     "text": [
      "my average of this semester was 6799.345600000\n"
     ]
    }
   ],
   "source": [
    "print(\"my average of this {0} was {1:.9f}\".format(\"semester\",6799.3456))"
   ]
  },
  {
   "cell_type": "code",
   "execution_count": 56,
   "metadata": {},
   "outputs": [
    {
     "name": "stdout",
     "output_type": "stream",
     "text": [
      "my average of this tfud was fgtyh\n"
     ]
    }
   ],
   "source": [
    "print(\"my average of this {} was {}\".format(\"tfud\",\"fgtyh\"))"
   ]
  },
  {
   "cell_type": "code",
   "execution_count": 60,
   "metadata": {},
   "outputs": [
    {
     "name": "stdout",
     "output_type": "stream",
     "text": [
      "The binary of 100 is 144\n"
     ]
    }
   ],
   "source": [
    "# Convert an integer to its binary or \n",
    "# with other different converted bases. \n",
    "print(\"The {0} of 100 is {1:o}\"\n",
    "        .format(\"binary\", 100))"
   ]
  },
  {
   "cell_type": "code",
   "execution_count": 64,
   "metadata": {},
   "outputs": [
    {
     "name": "stdout",
     "output_type": "stream",
     "text": [
      "the binary of 100 is 1100100\n"
     ]
    }
   ],
   "source": [
    "print(\"the {0} of 100 is {1:b}\".format(\"binary\",100))"
   ]
  },
  {
   "cell_type": "markdown",
   "metadata": {},
   "source": [
    "# To demonstrate spacing when  # strings are passed as parameters "
   ]
  },
  {
   "cell_type": "code",
   "execution_count": 83,
   "metadata": {},
   "outputs": [
    {
     "name": "stdout",
     "output_type": "stream",
     "text": [
      "mangos, are my favourate fruit   !\n"
     ]
    }
   ],
   "source": [
    "print(\"{0:4}, are my favourate {1:8}!\"\n",
    "                        .format(\"mangos\", \"fruit\"))"
   ]
  },
  {
   "cell_type": "code",
   "execution_count": 93,
   "metadata": {},
   "outputs": [
    {
     "name": "stdout",
     "output_type": "stream",
     "text": [
      "sweet, is my weakness in food                                                          !\n"
     ]
    }
   ],
   "source": [
    "print(\"{0:4}, is my weakness {1:65}!\".format(\"sweet\",\"in food\"))"
   ]
  },
  {
   "cell_type": "code",
   "execution_count": 103,
   "metadata": {},
   "outputs": [
    {
     "name": "stdout",
     "output_type": "stream",
     "text": [
      "Python  was conceived in 1980 by Guido van Rossum!\n"
     ]
    }
   ],
   "source": [
    "# To demonstrate both string and numeric \n",
    "# constants passed as parameters \n",
    "print(\"{0:4}  was conceived in {1:4} by {2:5}!\"\n",
    "    .format(\"Python\", 1980,\"Guido van Rossum\")) "
   ]
  },
  {
   "cell_type": "code",
   "execution_count": null,
   "metadata": {},
   "outputs": [],
   "source": []
  }
 ],
 "metadata": {
  "kernelspec": {
   "display_name": "Python 3",
   "language": "python",
   "name": "python3"
  },
  "language_info": {
   "codemirror_mode": {
    "name": "ipython",
    "version": 3
   },
   "file_extension": ".py",
   "mimetype": "text/x-python",
   "name": "python",
   "nbconvert_exporter": "python",
   "pygments_lexer": "ipython3",
   "version": "3.7.3"
  }
 },
 "nbformat": 4,
 "nbformat_minor": 2
}
